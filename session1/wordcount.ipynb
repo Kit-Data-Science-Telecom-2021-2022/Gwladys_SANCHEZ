{
 "cells": [
  {
   "cell_type": "code",
   "execution_count": 27,
   "metadata": {},
   "outputs": [],
   "source": [
    "path = 'D:\\Gwladys\\Documents\\CEST\\COURS\\INF721-Kit-BGD\\google-python-exercises\\\\LICENSE.txt'"
   ]
  },
  {
   "cell_type": "code",
   "execution_count": 43,
   "metadata": {},
   "outputs": [
    {
     "name": "stdout",
     "output_type": "stream",
     "text": [
      "Coucou,,,je,suis,là,,,hello,\n"
     ]
    }
   ],
   "source": [
    "import string\n",
    "\n",
    "def nettoyage(string):\n",
    "    table = string.maketrans(\"();.!\\n?\\\"\" \", \",,,,,,,,,\")\n",
    "    resultat = string.translate(table)\n",
    "    return resultat\n",
    "\n",
    "a= \"Coucou, (je suis là), hello!\"\n",
    "print(nettoyage(a))"
   ]
  },
  {
   "cell_type": "code",
   "execution_count": 57,
   "metadata": {},
   "outputs": [
    {
     "name": "stdout",
     "output_type": "stream",
     "text": [
      " 1436\n",
      "the 100\n",
      "or 69\n",
      "of 67\n",
      "and 46\n",
      "to 40\n",
      "license 34\n",
      "work 34\n",
      "any 30\n",
      "you 26\n",
      "for 24\n",
      "in 24\n",
      "by 23\n",
      "that 22\n",
      "a 22\n",
      "works 19\n",
      "such 18\n",
      "derivative 18\n",
      "as 17\n",
      "this 17\n"
     ]
    }
   ],
   "source": [
    "import string\n",
    "\n",
    "def nettoyage(string):\n",
    "    table = string.maketrans(\"()[]/:;.!\\n? \\\"\", \",,,,,,,,,,,,,\")\n",
    "    resultat = string.translate(table)\n",
    "    return resultat\n",
    "\n",
    "def dic(filename):\n",
    "    text = open(filename).read()\n",
    "    words = nettoyage(text).split(\",\")\n",
    "    dic = {}\n",
    "    for word in words:\n",
    "        if word.lower() in dic.keys():\n",
    "            dic[word.lower()]+=1\n",
    "        else:\n",
    "            dic[word.lower()]=1    \n",
    "    return dic\n",
    "\n",
    "def print_words(filename):\n",
    "    dic2 = dict(sorted(dic(filename).items(), key=lambda x:x[0]))\n",
    "    for key in dic2.keys():\n",
    "        print(key, dic2[key])\n",
    "\n",
    "def print_top(filename):\n",
    "    ll = sorted(dic(filename).items(), key=lambda x:x[1], reverse=True)\n",
    "    for i in range(20):\n",
    "        print(ll[i][0],ll[i][1])\n",
    "\n",
    "print_top(path)"
   ]
  },
  {
   "cell_type": "code",
   "execution_count": 58,
   "metadata": {},
   "outputs": [
    {
     "name": "stdout",
     "output_type": "stream",
     "text": [
      "unknown option: -f\n"
     ]
    },
    {
     "ename": "SystemExit",
     "evalue": "1",
     "output_type": "error",
     "traceback": [
      "An exception has occurred, use %tb to see the full traceback.\n",
      "\u001b[1;31mSystemExit\u001b[0m\u001b[1;31m:\u001b[0m 1\n"
     ]
    },
    {
     "name": "stderr",
     "output_type": "stream",
     "text": [
      "D:\\Programmes\\Anaconda3\\lib\\site-packages\\IPython\\core\\interactiveshell.py:3426: UserWarning: To exit: use 'exit', 'quit', or Ctrl-D.\n",
      "  warn(\"To exit: use 'exit', 'quit', or Ctrl-D.\", stacklevel=1)\n"
     ]
    }
   ],
   "source": [
    "#!/usr/bin/python -tt\n",
    "# Copyright 2010 Google Inc.\n",
    "# Licensed under the Apache License, Version 2.0\n",
    "# http://www.apache.org/licenses/LICENSE-2.0\n",
    "\n",
    "# Google's Python Class\n",
    "# http://code.google.com/edu/languages/google-python-class/\n",
    "\n",
    "\"\"\"Wordcount exercise\n",
    "Google's Python class\n",
    "\n",
    "The main() below is already defined and complete. It calls print_words()\n",
    "and print_top() functions which you write.\n",
    "\n",
    "1. For the --count flag, implement a print_words(filename) function that counts\n",
    "how often each word appears in the text and prints:\n",
    "word1 count1\n",
    "word2 count2\n",
    "...\n",
    "\n",
    "Print the above list in order sorted by word (python will sort punctuation to\n",
    "come before letters -- that's fine). Store all the words as lowercase,\n",
    "so 'The' and 'the' count as the same word.\n",
    "\n",
    "2. For the --topcount flag, implement a print_top(filename) which is similar\n",
    "to print_words() but which prints just the top 20 most common words sorted\n",
    "so the most common word is first, then the next most common, and so on.\n",
    "\n",
    "Use str.split() (no arguments) to split on all whitespace.\n",
    "\n",
    "Workflow: don't build the whole program at once. Get it to an intermediate\n",
    "milestone and print your data structure and sys.exit(0).\n",
    "When that's working, try for the next milestone.\n",
    "\n",
    "Optional: define a helper function to avoid code duplication inside\n",
    "print_words() and print_top().\n",
    "\n",
    "\"\"\"\n",
    "\n",
    "import sys\n",
    "\n",
    "def nettoyage(string):\n",
    "    table = string.maketrans(\"()[]/:;.!\\n? \\\"\", \",,,,,,,,,,,,,\")\n",
    "    resultat = string.translate(table)\n",
    "    return resultat\n",
    "\n",
    "def dic(filename):\n",
    "    text = open(filename).read()\n",
    "    words = nettoyage(text).split(\",\")\n",
    "    dic = {}\n",
    "    for word in words:\n",
    "        if word.lower() in dic.keys():\n",
    "            dic[word.lower()]+=1\n",
    "        else:\n",
    "            dic[word.lower()]=1    \n",
    "    return dic\n",
    "\n",
    "def print_words(filename):\n",
    "    dic2 = dict(sorted(dic(filename).items(), key=lambda x:x[0]))\n",
    "    for key in dic2.keys():\n",
    "        print(key, dic2[key])\n",
    "\n",
    "def print_top(filename):\n",
    "    ll = sorted(dic(filename).items(), key=lambda x:x[1], reverse=True)\n",
    "    for i in range(20):\n",
    "        print(ll[i][0],ll[i][1])       \n",
    "\n",
    "    \n",
    "# Define print_words(filename) and print_top(filename) functions.\n",
    "# You could write a helper utility function that reads a file\n",
    "# and builds and returns a word/count dict for it.\n",
    "# Then print_words() and print_top() can just call the utility function.\n",
    "\n",
    "###\n",
    "\n",
    "# This basic command line argument parsing code is provided and\n",
    "# calls the print_words() and print_top() functions which you must define.\n",
    "def main():\n",
    "  if len(sys.argv) != 3:\n",
    "    print('usage: ./wordcount.py {--count | --topcount} file')\n",
    "    sys.exit(1)\n",
    "\n",
    "  option = sys.argv[1]\n",
    "  filename = sys.argv[2]\n",
    "  if option == '--count':\n",
    "    print_words(filename)\n",
    "  elif option == '--topcount':\n",
    "    print_top(filename)\n",
    "  else:\n",
    "    print('unknown option: ' + option)\n",
    "    sys.exit(1)\n",
    "\n",
    "if __name__ == '__main__':\n",
    "  main()\n"
   ]
  }
 ],
 "metadata": {
  "kernelspec": {
   "display_name": "Python 3",
   "language": "python",
   "name": "python3"
  },
  "language_info": {
   "codemirror_mode": {
    "name": "ipython",
    "version": 3
   },
   "file_extension": ".py",
   "mimetype": "text/x-python",
   "name": "python",
   "nbconvert_exporter": "python",
   "pygments_lexer": "ipython3",
   "version": "3.8.5"
  }
 },
 "nbformat": 4,
 "nbformat_minor": 4
}

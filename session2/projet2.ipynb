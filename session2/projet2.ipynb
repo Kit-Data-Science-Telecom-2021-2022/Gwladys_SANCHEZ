{
 "cells": [
  {
   "cell_type": "markdown",
   "metadata": {},
   "source": [
    "\n",
    "# Projet 2"
   ]
  },
  {
   "cell_type": "code",
   "execution_count": 1,
   "metadata": {
    "scrolled": false
   },
   "outputs": [],
   "source": [
    "# import des modules usuels\n",
    "import numpy as np\n",
    "import pandas as pd\n",
    "\n",
    "# options d'affichage\n",
    "pd.set_option(\"display.min_rows\", 16)"
   ]
  },
  {
   "cell_type": "code",
   "execution_count": 2,
   "metadata": {},
   "outputs": [
    {
     "data": {
      "text/html": [
       "<div>\n",
       "<style scoped>\n",
       "    .dataframe tbody tr th:only-of-type {\n",
       "        vertical-align: middle;\n",
       "    }\n",
       "\n",
       "    .dataframe tbody tr th {\n",
       "        vertical-align: top;\n",
       "    }\n",
       "\n",
       "    .dataframe thead th {\n",
       "        text-align: right;\n",
       "    }\n",
       "</style>\n",
       "<table border=\"1\" class=\"dataframe\">\n",
       "  <thead>\n",
       "    <tr style=\"text-align: right;\">\n",
       "      <th></th>\n",
       "      <th>Code Postal</th>\n",
       "      <th>Commune</th>\n",
       "      <th>Département</th>\n",
       "      <th>Région</th>\n",
       "      <th>Statut</th>\n",
       "      <th>Altitude Moyenne</th>\n",
       "      <th>Superficie</th>\n",
       "      <th>Population</th>\n",
       "      <th>geo_point_2d</th>\n",
       "      <th>geo_shape</th>\n",
       "      <th>Latitude</th>\n",
       "      <th>Longitude</th>\n",
       "    </tr>\n",
       "    <tr>\n",
       "      <th>Code INSEE</th>\n",
       "      <th></th>\n",
       "      <th></th>\n",
       "      <th></th>\n",
       "      <th></th>\n",
       "      <th></th>\n",
       "      <th></th>\n",
       "      <th></th>\n",
       "      <th></th>\n",
       "      <th></th>\n",
       "      <th></th>\n",
       "      <th></th>\n",
       "      <th></th>\n",
       "    </tr>\n",
       "  </thead>\n",
       "  <tbody>\n",
       "    <tr>\n",
       "      <th>01001</th>\n",
       "      <td>01400</td>\n",
       "      <td>L'ABERGEMENT-CLEMENCIAT</td>\n",
       "      <td>AIN</td>\n",
       "      <td>RHONE-ALPES</td>\n",
       "      <td>Commune simple</td>\n",
       "      <td>242.0</td>\n",
       "      <td>1565.0</td>\n",
       "      <td>0.8</td>\n",
       "      <td>46.1534255214, 4.92611354223</td>\n",
       "      <td>{\"type\": \"Polygon\", \"coordinates\": [[[4.926273...</td>\n",
       "      <td>46.153426</td>\n",
       "      <td>4.926114</td>\n",
       "    </tr>\n",
       "    <tr>\n",
       "      <th>01002</th>\n",
       "      <td>01640</td>\n",
       "      <td>L'ABERGEMENT-DE-VAREY</td>\n",
       "      <td>AIN</td>\n",
       "      <td>RHONE-ALPES</td>\n",
       "      <td>Commune simple</td>\n",
       "      <td>483.0</td>\n",
       "      <td>912.0</td>\n",
       "      <td>0.2</td>\n",
       "      <td>46.0091878776, 5.42801696363</td>\n",
       "      <td>{\"type\": \"Polygon\", \"coordinates\": [[[5.430089...</td>\n",
       "      <td>46.009188</td>\n",
       "      <td>5.428017</td>\n",
       "    </tr>\n",
       "    <tr>\n",
       "      <th>01004</th>\n",
       "      <td>01500</td>\n",
       "      <td>AMBERIEU-EN-BUGEY</td>\n",
       "      <td>AIN</td>\n",
       "      <td>RHONE-ALPES</td>\n",
       "      <td>Chef-lieu canton</td>\n",
       "      <td>379.0</td>\n",
       "      <td>2448.0</td>\n",
       "      <td>13.4</td>\n",
       "      <td>45.9608475114, 5.3729257777</td>\n",
       "      <td>{\"type\": \"Polygon\", \"coordinates\": [[[5.386190...</td>\n",
       "      <td>45.960848</td>\n",
       "      <td>5.372926</td>\n",
       "    </tr>\n",
       "    <tr>\n",
       "      <th>01005</th>\n",
       "      <td>01330</td>\n",
       "      <td>AMBERIEUX-EN-DOMBES</td>\n",
       "      <td>AIN</td>\n",
       "      <td>RHONE-ALPES</td>\n",
       "      <td>Commune simple</td>\n",
       "      <td>290.0</td>\n",
       "      <td>1605.0</td>\n",
       "      <td>1.6</td>\n",
       "      <td>45.9961799872, 4.91227250796</td>\n",
       "      <td>{\"type\": \"Polygon\", \"coordinates\": [[[4.895580...</td>\n",
       "      <td>45.996180</td>\n",
       "      <td>4.912273</td>\n",
       "    </tr>\n",
       "    <tr>\n",
       "      <th>01006</th>\n",
       "      <td>01300</td>\n",
       "      <td>AMBLEON</td>\n",
       "      <td>AIN</td>\n",
       "      <td>RHONE-ALPES</td>\n",
       "      <td>Commune simple</td>\n",
       "      <td>589.0</td>\n",
       "      <td>602.0</td>\n",
       "      <td>0.1</td>\n",
       "      <td>45.7494989044, 5.59432017366</td>\n",
       "      <td>{\"type\": \"Polygon\", \"coordinates\": [[[5.614854...</td>\n",
       "      <td>45.749499</td>\n",
       "      <td>5.594320</td>\n",
       "    </tr>\n",
       "  </tbody>\n",
       "</table>\n",
       "</div>"
      ],
      "text/plain": [
       "           Code Postal                  Commune Département       Région  \\\n",
       "Code INSEE                                                                 \n",
       "01001            01400  L'ABERGEMENT-CLEMENCIAT         AIN  RHONE-ALPES   \n",
       "01002            01640    L'ABERGEMENT-DE-VAREY         AIN  RHONE-ALPES   \n",
       "01004            01500        AMBERIEU-EN-BUGEY         AIN  RHONE-ALPES   \n",
       "01005            01330      AMBERIEUX-EN-DOMBES         AIN  RHONE-ALPES   \n",
       "01006            01300                  AMBLEON         AIN  RHONE-ALPES   \n",
       "\n",
       "                      Statut  Altitude Moyenne  Superficie  Population  \\\n",
       "Code INSEE                                                               \n",
       "01001         Commune simple             242.0      1565.0         0.8   \n",
       "01002         Commune simple             483.0       912.0         0.2   \n",
       "01004       Chef-lieu canton             379.0      2448.0        13.4   \n",
       "01005         Commune simple             290.0      1605.0         1.6   \n",
       "01006         Commune simple             589.0       602.0         0.1   \n",
       "\n",
       "                            geo_point_2d  \\\n",
       "Code INSEE                                 \n",
       "01001       46.1534255214, 4.92611354223   \n",
       "01002       46.0091878776, 5.42801696363   \n",
       "01004        45.9608475114, 5.3729257777   \n",
       "01005       45.9961799872, 4.91227250796   \n",
       "01006       45.7494989044, 5.59432017366   \n",
       "\n",
       "                                                    geo_shape   Latitude  \\\n",
       "Code INSEE                                                                 \n",
       "01001       {\"type\": \"Polygon\", \"coordinates\": [[[4.926273...  46.153426   \n",
       "01002       {\"type\": \"Polygon\", \"coordinates\": [[[5.430089...  46.009188   \n",
       "01004       {\"type\": \"Polygon\", \"coordinates\": [[[5.386190...  45.960848   \n",
       "01005       {\"type\": \"Polygon\", \"coordinates\": [[[4.895580...  45.996180   \n",
       "01006       {\"type\": \"Polygon\", \"coordinates\": [[[5.614854...  45.749499   \n",
       "\n",
       "            Longitude  \n",
       "Code INSEE             \n",
       "01001        4.926114  \n",
       "01002        5.428017  \n",
       "01004        5.372926  \n",
       "01005        4.912273  \n",
       "01006        5.594320  "
      ]
     },
     "execution_count": 2,
     "metadata": {},
     "output_type": "execute_result"
    }
   ],
   "source": [
    "# chargement et traitement des données\n",
    "geo = pd.read_csv(\"correspondance-code-insee-code-postal.csv\",\n",
    "                   sep=';',\n",
    "                   usecols=range(11),\n",
    "                   index_col=\"Code INSEE\")\n",
    "geo = geo.sort_index()\n",
    "geo[['Latitude', 'Longitude']] = geo[\"geo_point_2d\"].str.extract(\"(.*), (.*)\").astype(float)\n",
    "geo.head()"
   ]
  },
  {
   "cell_type": "markdown",
   "metadata": {},
   "source": [
    "**Projet maison n° 1**\n",
    "\n",
    "- Ajoutez une colonne 'CP Ville' avec le Code postal + un espace + et le nom de la Ville.\n",
    "- Ecrivez une fonction qui détermine la commune la plus proche d'un point à partir de sa latitude et sa longitude.\n",
    "- Ajoutez une fonction de conversion pour pouvoir utiliser la première fonction avec un GPS (degrés, minutes, secondes)."
   ]
  },
  {
   "cell_type": "code",
   "execution_count": 3,
   "metadata": {},
   "outputs": [],
   "source": [
    "geo[\"CP Ville\"] = geo['Code Postal'] + \" \" + geo[\"Commune\"]"
   ]
  },
  {
   "cell_type": "code",
   "execution_count": 4,
   "metadata": {},
   "outputs": [],
   "source": [
    "geo[['Latitude', 'Longitude']] = geo[\"geo_point_2d\"].str.extract(\"(.*), (.*)\").astype(float)"
   ]
  },
  {
   "cell_type": "code",
   "execution_count": 5,
   "metadata": {
    "scrolled": false
   },
   "outputs": [],
   "source": [
    "# fonction recherche de ville\n",
    "def ville(lat, long):\n",
    "    geo[\"distance\"] = (geo[\"Latitude\"] - lat)**2 + (geo[\"Longitude\"] - long)**2\n",
    "    return geo.loc[geo.sort_values(\"distance\").index[0]]"
   ]
  },
  {
   "cell_type": "code",
   "execution_count": 6,
   "metadata": {
    "scrolled": false
   },
   "outputs": [],
   "source": [
    "# conversion degrés, minutes, secondes => décimal\n",
    "def dms2dec(deg, mn, sec):\n",
    "    return deg + mn / 60 + sec / 3600"
   ]
  },
  {
   "cell_type": "code",
   "execution_count": 7,
   "metadata": {
    "scrolled": false
   },
   "outputs": [
    {
     "data": {
      "text/plain": [
       "Code Postal                                                     71330\n",
       "Commune                                                       BOSJEAN\n",
       "Département                                            SAONE-ET-LOIRE\n",
       "Région                                                      BOURGOGNE\n",
       "Statut                                                 Commune simple\n",
       "Altitude Moyenne                                                  202\n",
       "Superficie                                                       1862\n",
       "Population                                                        0.3\n",
       "geo_point_2d                             46.7696786287, 5.34727924927\n",
       "geo_shape           {\"type\": \"Polygon\", \"coordinates\": [[[5.345021...\n",
       "Latitude                                                      46.7697\n",
       "Longitude                                                     5.34728\n",
       "CP Ville                                                71330 BOSJEAN\n",
       "distance                                                  3.15525e-05\n",
       "Name: 71044, dtype: object"
      ]
     },
     "execution_count": 7,
     "metadata": {},
     "output_type": "execute_result"
    }
   ],
   "source": [
    "# on applique la fonction à une coordonnée tirée au hasard\n",
    "# init du random\n",
    "np.random.seed(0)\n",
    "\n",
    "a, b = 41.5, 51.1  # latitude min et max de la France métropolitaine\n",
    "lat = (b - a) * np.random.random() + a\n",
    "a, b = -5.1, 9.5  # longitude min et max de la France métropolitaine\n",
    "long = (b - a) * np.random.random() + a\n",
    "\n",
    "ville(lat, long)"
   ]
  },
  {
   "cell_type": "code",
   "execution_count": 8,
   "metadata": {
    "scrolled": false
   },
   "outputs": [
    {
     "data": {
      "text/plain": [
       "Code Postal                                                     91120\n",
       "Commune                                                     PALAISEAU\n",
       "Département                                                   ESSONNE\n",
       "Région                                                  ILE-DE-FRANCE\n",
       "Statut                                                Sous-préfecture\n",
       "Altitude Moyenne                                                  118\n",
       "Superficie                                                       1168\n",
       "Population                                                       30.3\n",
       "geo_point_2d                             48.7146765876, 2.22881488083\n",
       "geo_shape           {\"type\": \"Polygon\", \"coordinates\": [[[2.259350...\n",
       "Latitude                                                      48.7147\n",
       "Longitude                                                     2.22881\n",
       "CP Ville                                              91120 PALAISEAU\n",
       "distance                                                  0.000289682\n",
       "Name: 91477, dtype: object"
      ]
     },
     "execution_count": 8,
     "metadata": {},
     "output_type": "execute_result"
    }
   ],
   "source": [
    "# à partir de coordonnées GPS précises\n",
    "ville(dms2dec(48, 42, 52), dms2dec(2, 14, 45))"
   ]
  },
  {
   "cell_type": "markdown",
   "metadata": {},
   "source": [
    "**Projet maison n° 2**\n",
    "\n",
    "La colonne \"geo_shape\" comporte des chaines de catactères au format JSON. Elles représentent les formes géométriques des communes qui sont soit des polygones soit composées de plusieurs polygones.\n",
    "\n",
    "- Utiliser la librairie Python json pour parser la colonne \"geo_shape\".\n",
    "- Donner le décompte des valeurs accédées avec la clé \"type\".\n",
    "- Donner le décompte des longueurs des listes accédées avec la clé \"coordinates\".\n",
    "- Quelle commune est la plus complexe géométriquement ?\n",
    "- Quelle commune est la seconde la plus complexe géométriquement ?\n",
    "- Quelles sont les villes qui sont de type \"Polygon\" mais dont la longueur des listes accédées avec la clé \"coordinates\" vaut 2 ?\n",
    "- Pour ces villes vérifier que le premier polygone contient bien le second (enclave). NB : installer la librairie shapely, utiliser la classe Polygon de shapely.geometry. Sur Windows shapely peut nécessiter d'installer la dll \"geos_c.dll\" dans le répertoire \"Library/bin\" de votre environnement Python."
   ]
  },
  {
   "cell_type": "code",
   "execution_count": 9,
   "metadata": {},
   "outputs": [],
   "source": [
    "import json"
   ]
  },
  {
   "cell_type": "code",
   "execution_count": 10,
   "metadata": {},
   "outputs": [],
   "source": [
    "# On transforme les données de \"geo_shape\" en dictionnaires\n",
    "geo[\"geo_shape\"] = geo[\"geo_shape\"].apply(lambda x: json.loads(x))"
   ]
  },
  {
   "cell_type": "code",
   "execution_count": 11,
   "metadata": {},
   "outputs": [],
   "source": [
    "# On décompose le dictionnaire en deux colonnes séparées\n",
    "geo[\"type\"] = geo[\"geo_shape\"].apply(lambda x: x[\"type\"])\n",
    "geo[\"coordinates\"] = geo[\"geo_shape\"].apply(lambda x: x['coordinates'])"
   ]
  },
  {
   "cell_type": "code",
   "execution_count": 12,
   "metadata": {},
   "outputs": [
    {
     "data": {
      "text/plain": [
       "MultiPolygon       72\n",
       "Polygon         36670\n",
       "Name: type, dtype: int64"
      ]
     },
     "execution_count": 12,
     "metadata": {},
     "output_type": "execute_result"
    }
   ],
   "source": [
    "#Décompte des valeurs accédées avec la clé \"type\"\n",
    "geo[\"type\"].value_counts().sort_index()"
   ]
  },
  {
   "cell_type": "code",
   "execution_count": 13,
   "metadata": {},
   "outputs": [],
   "source": [
    "#Création d'une colonne contenant la longueur de la liste de coordonnées \n",
    "#(nombre de polygones)\n",
    "geo[\"nb_polygones\"] = geo[\"coordinates\"].apply(lambda x: len(x))"
   ]
  },
  {
   "cell_type": "code",
   "execution_count": 14,
   "metadata": {},
   "outputs": [
    {
     "data": {
      "text/plain": [
       "1    36660\n",
       "2       80\n",
       "3        1\n",
       "4        1\n",
       "Name: nb_polygones, dtype: int64"
      ]
     },
     "execution_count": 14,
     "metadata": {},
     "output_type": "execute_result"
    }
   ],
   "source": [
    "#si longueur des coordonnées = nombre de polygones\n",
    "geo[\"nb_polygones\"].value_counts().sort_index()"
   ]
  },
  {
   "cell_type": "code",
   "execution_count": 15,
   "metadata": {},
   "outputs": [
    {
     "data": {
      "text/html": [
       "<div>\n",
       "<style scoped>\n",
       "    .dataframe tbody tr th:only-of-type {\n",
       "        vertical-align: middle;\n",
       "    }\n",
       "\n",
       "    .dataframe tbody tr th {\n",
       "        vertical-align: top;\n",
       "    }\n",
       "\n",
       "    .dataframe thead th {\n",
       "        text-align: right;\n",
       "    }\n",
       "</style>\n",
       "<table border=\"1\" class=\"dataframe\">\n",
       "  <thead>\n",
       "    <tr style=\"text-align: right;\">\n",
       "      <th></th>\n",
       "      <th>Code Postal</th>\n",
       "      <th>Commune</th>\n",
       "      <th>Département</th>\n",
       "      <th>Région</th>\n",
       "      <th>Statut</th>\n",
       "      <th>Altitude Moyenne</th>\n",
       "      <th>Superficie</th>\n",
       "      <th>Population</th>\n",
       "      <th>geo_point_2d</th>\n",
       "      <th>geo_shape</th>\n",
       "      <th>Latitude</th>\n",
       "      <th>Longitude</th>\n",
       "      <th>CP Ville</th>\n",
       "      <th>distance</th>\n",
       "      <th>type</th>\n",
       "      <th>coordinates</th>\n",
       "      <th>nb_polygones</th>\n",
       "    </tr>\n",
       "    <tr>\n",
       "      <th>Code INSEE</th>\n",
       "      <th></th>\n",
       "      <th></th>\n",
       "      <th></th>\n",
       "      <th></th>\n",
       "      <th></th>\n",
       "      <th></th>\n",
       "      <th></th>\n",
       "      <th></th>\n",
       "      <th></th>\n",
       "      <th></th>\n",
       "      <th></th>\n",
       "      <th></th>\n",
       "      <th></th>\n",
       "      <th></th>\n",
       "      <th></th>\n",
       "      <th></th>\n",
       "      <th></th>\n",
       "    </tr>\n",
       "  </thead>\n",
       "  <tbody>\n",
       "    <tr>\n",
       "      <th>83069</th>\n",
       "      <td>83400</td>\n",
       "      <td>HYERES</td>\n",
       "      <td>VAR</td>\n",
       "      <td>PROVENCE-ALPES-COTE D'AZUR</td>\n",
       "      <td>Chef-lieu canton</td>\n",
       "      <td>60.0</td>\n",
       "      <td>13356.0</td>\n",
       "      <td>54.7</td>\n",
       "      <td>43.1018713534, 6.18898508469</td>\n",
       "      <td>{'type': 'MultiPolygon', 'coordinates': [[[[6....</td>\n",
       "      <td>43.101871</td>\n",
       "      <td>6.188985</td>\n",
       "      <td>83400 HYERES</td>\n",
       "      <td>47.049422</td>\n",
       "      <td>MultiPolygon</td>\n",
       "      <td>[[[[6.116721717969871, 43.0347592631124], [6.0...</td>\n",
       "      <td>4</td>\n",
       "    </tr>\n",
       "  </tbody>\n",
       "</table>\n",
       "</div>"
      ],
      "text/plain": [
       "           Code Postal Commune Département                      Région  \\\n",
       "Code INSEE                                                               \n",
       "83069            83400  HYERES         VAR  PROVENCE-ALPES-COTE D'AZUR   \n",
       "\n",
       "                      Statut  Altitude Moyenne  Superficie  Population  \\\n",
       "Code INSEE                                                               \n",
       "83069       Chef-lieu canton              60.0     13356.0        54.7   \n",
       "\n",
       "                            geo_point_2d  \\\n",
       "Code INSEE                                 \n",
       "83069       43.1018713534, 6.18898508469   \n",
       "\n",
       "                                                    geo_shape   Latitude  \\\n",
       "Code INSEE                                                                 \n",
       "83069       {'type': 'MultiPolygon', 'coordinates': [[[[6....  43.101871   \n",
       "\n",
       "            Longitude      CP Ville   distance          type  \\\n",
       "Code INSEE                                                     \n",
       "83069        6.188985  83400 HYERES  47.049422  MultiPolygon   \n",
       "\n",
       "                                                  coordinates  nb_polygones  \n",
       "Code INSEE                                                                   \n",
       "83069       [[[[6.116721717969871, 43.0347592631124], [6.0...             4  "
      ]
     },
     "execution_count": 15,
     "metadata": {},
     "output_type": "execute_result"
    }
   ],
   "source": [
    "#Ville la plus complexe en nombre de polygones\n",
    "geo.loc[geo[\"nb_polygones\"]==max(geo[\"nb_polygones\"])]"
   ]
  },
  {
   "cell_type": "code",
   "execution_count": 16,
   "metadata": {},
   "outputs": [
    {
     "data": {
      "text/plain": [
       "2        70\n",
       "3         1\n",
       "4         5\n",
       "5       149\n",
       "6       583\n",
       "7      1326\n",
       "8      2174\n",
       "9      2822\n",
       "       ... \n",
       "203       1\n",
       "226       1\n",
       "251       1\n",
       "273       1\n",
       "325       1\n",
       "334       1\n",
       "392       1\n",
       "486       1\n",
       "Name: nb_points, Length: 81, dtype: int64"
      ]
     },
     "execution_count": 16,
     "metadata": {},
     "output_type": "execute_result"
    }
   ],
   "source": [
    "#si longueur des coordonnées = nombre de points\n",
    "geo[\"nb_points\"] = geo[\"coordinates\"].apply(lambda x: sum([len(x[i]) for i in range(len(x))]))\n",
    "geo[\"nb_points\"].value_counts().sort_index()"
   ]
  },
  {
   "cell_type": "code",
   "execution_count": 17,
   "metadata": {},
   "outputs": [
    {
     "data": {
      "text/html": [
       "<div>\n",
       "<style scoped>\n",
       "    .dataframe tbody tr th:only-of-type {\n",
       "        vertical-align: middle;\n",
       "    }\n",
       "\n",
       "    .dataframe tbody tr th {\n",
       "        vertical-align: top;\n",
       "    }\n",
       "\n",
       "    .dataframe thead th {\n",
       "        text-align: right;\n",
       "    }\n",
       "</style>\n",
       "<table border=\"1\" class=\"dataframe\">\n",
       "  <thead>\n",
       "    <tr style=\"text-align: right;\">\n",
       "      <th></th>\n",
       "      <th>Code Postal</th>\n",
       "      <th>Commune</th>\n",
       "      <th>Département</th>\n",
       "      <th>Région</th>\n",
       "      <th>Statut</th>\n",
       "      <th>Altitude Moyenne</th>\n",
       "      <th>Superficie</th>\n",
       "      <th>Population</th>\n",
       "      <th>geo_point_2d</th>\n",
       "      <th>geo_shape</th>\n",
       "      <th>Latitude</th>\n",
       "      <th>Longitude</th>\n",
       "      <th>CP Ville</th>\n",
       "      <th>distance</th>\n",
       "      <th>type</th>\n",
       "      <th>coordinates</th>\n",
       "      <th>nb_polygones</th>\n",
       "      <th>nb_points</th>\n",
       "    </tr>\n",
       "    <tr>\n",
       "      <th>Code INSEE</th>\n",
       "      <th></th>\n",
       "      <th></th>\n",
       "      <th></th>\n",
       "      <th></th>\n",
       "      <th></th>\n",
       "      <th></th>\n",
       "      <th></th>\n",
       "      <th></th>\n",
       "      <th></th>\n",
       "      <th></th>\n",
       "      <th></th>\n",
       "      <th></th>\n",
       "      <th></th>\n",
       "      <th></th>\n",
       "      <th></th>\n",
       "      <th></th>\n",
       "      <th></th>\n",
       "      <th></th>\n",
       "    </tr>\n",
       "  </thead>\n",
       "  <tbody>\n",
       "    <tr>\n",
       "      <th>97353</th>\n",
       "      <td>97370</td>\n",
       "      <td>MARIPASOULA</td>\n",
       "      <td>GUYANE</td>\n",
       "      <td>GUYANE</td>\n",
       "      <td>Chef-lieu canton</td>\n",
       "      <td>189.0</td>\n",
       "      <td>1871833.0</td>\n",
       "      <td>7.6</td>\n",
       "      <td>2.97088417594, -53.7584193112</td>\n",
       "      <td>{'type': 'Polygon', 'coordinates': [[[-53.3171...</td>\n",
       "      <td>2.970884</td>\n",
       "      <td>-53.758419</td>\n",
       "      <td>97370 MARIPASOULA</td>\n",
       "      <td>5228.94962</td>\n",
       "      <td>Polygon</td>\n",
       "      <td>[[[-53.317197766565286, 2.340121079614097], [-...</td>\n",
       "      <td>1</td>\n",
       "      <td>486</td>\n",
       "    </tr>\n",
       "  </tbody>\n",
       "</table>\n",
       "</div>"
      ],
      "text/plain": [
       "           Code Postal      Commune Département  Région            Statut  \\\n",
       "Code INSEE                                                                  \n",
       "97353            97370  MARIPASOULA      GUYANE  GUYANE  Chef-lieu canton   \n",
       "\n",
       "            Altitude Moyenne  Superficie  Population  \\\n",
       "Code INSEE                                             \n",
       "97353                  189.0   1871833.0         7.6   \n",
       "\n",
       "                             geo_point_2d  \\\n",
       "Code INSEE                                  \n",
       "97353       2.97088417594, -53.7584193112   \n",
       "\n",
       "                                                    geo_shape  Latitude  \\\n",
       "Code INSEE                                                                \n",
       "97353       {'type': 'Polygon', 'coordinates': [[[-53.3171...  2.970884   \n",
       "\n",
       "            Longitude           CP Ville    distance     type  \\\n",
       "Code INSEE                                                      \n",
       "97353      -53.758419  97370 MARIPASOULA  5228.94962  Polygon   \n",
       "\n",
       "                                                  coordinates  nb_polygones  \\\n",
       "Code INSEE                                                                    \n",
       "97353       [[[-53.317197766565286, 2.340121079614097], [-...             1   \n",
       "\n",
       "            nb_points  \n",
       "Code INSEE             \n",
       "97353             486  "
      ]
     },
     "execution_count": 17,
     "metadata": {},
     "output_type": "execute_result"
    }
   ],
   "source": [
    "#Ville la plus complexe en nombre de points\n",
    "geo.loc[geo[\"nb_points\"]==max(geo['nb_points'])]"
   ]
  },
  {
   "cell_type": "code",
   "execution_count": 18,
   "metadata": {},
   "outputs": [
    {
     "data": {
      "text/html": [
       "<div>\n",
       "<style scoped>\n",
       "    .dataframe tbody tr th:only-of-type {\n",
       "        vertical-align: middle;\n",
       "    }\n",
       "\n",
       "    .dataframe tbody tr th {\n",
       "        vertical-align: top;\n",
       "    }\n",
       "\n",
       "    .dataframe thead th {\n",
       "        text-align: right;\n",
       "    }\n",
       "</style>\n",
       "<table border=\"1\" class=\"dataframe\">\n",
       "  <thead>\n",
       "    <tr style=\"text-align: right;\">\n",
       "      <th></th>\n",
       "      <th>Code Postal</th>\n",
       "      <th>Commune</th>\n",
       "      <th>Département</th>\n",
       "      <th>Région</th>\n",
       "      <th>Statut</th>\n",
       "      <th>Altitude Moyenne</th>\n",
       "      <th>Superficie</th>\n",
       "      <th>Population</th>\n",
       "      <th>geo_point_2d</th>\n",
       "      <th>geo_shape</th>\n",
       "      <th>Latitude</th>\n",
       "      <th>Longitude</th>\n",
       "      <th>CP Ville</th>\n",
       "      <th>distance</th>\n",
       "      <th>type</th>\n",
       "      <th>coordinates</th>\n",
       "      <th>nb_polygones</th>\n",
       "      <th>nb_points</th>\n",
       "    </tr>\n",
       "    <tr>\n",
       "      <th>Code INSEE</th>\n",
       "      <th></th>\n",
       "      <th></th>\n",
       "      <th></th>\n",
       "      <th></th>\n",
       "      <th></th>\n",
       "      <th></th>\n",
       "      <th></th>\n",
       "      <th></th>\n",
       "      <th></th>\n",
       "      <th></th>\n",
       "      <th></th>\n",
       "      <th></th>\n",
       "      <th></th>\n",
       "      <th></th>\n",
       "      <th></th>\n",
       "      <th></th>\n",
       "      <th></th>\n",
       "      <th></th>\n",
       "    </tr>\n",
       "  </thead>\n",
       "  <tbody>\n",
       "    <tr>\n",
       "      <th>97301</th>\n",
       "      <td>97390</td>\n",
       "      <td>REGINA</td>\n",
       "      <td>GUYANE</td>\n",
       "      <td>GUYANE</td>\n",
       "      <td>Chef-lieu canton</td>\n",
       "      <td>88.0</td>\n",
       "      <td>1156376.0</td>\n",
       "      <td>0.8</td>\n",
       "      <td>3.94091776652, -52.5199269871</td>\n",
       "      <td>{'type': 'Polygon', 'coordinates': [[[-52.5010...</td>\n",
       "      <td>3.940918</td>\n",
       "      <td>-52.519927</td>\n",
       "      <td>97390 REGINA</td>\n",
       "      <td>5003.957195</td>\n",
       "      <td>Polygon</td>\n",
       "      <td>[[[-52.501078590007516, 3.49466089258716], [-5...</td>\n",
       "      <td>1</td>\n",
       "      <td>392</td>\n",
       "    </tr>\n",
       "  </tbody>\n",
       "</table>\n",
       "</div>"
      ],
      "text/plain": [
       "           Code Postal Commune Département  Région            Statut  \\\n",
       "Code INSEE                                                             \n",
       "97301            97390  REGINA      GUYANE  GUYANE  Chef-lieu canton   \n",
       "\n",
       "            Altitude Moyenne  Superficie  Population  \\\n",
       "Code INSEE                                             \n",
       "97301                   88.0   1156376.0         0.8   \n",
       "\n",
       "                             geo_point_2d  \\\n",
       "Code INSEE                                  \n",
       "97301       3.94091776652, -52.5199269871   \n",
       "\n",
       "                                                    geo_shape  Latitude  \\\n",
       "Code INSEE                                                                \n",
       "97301       {'type': 'Polygon', 'coordinates': [[[-52.5010...  3.940918   \n",
       "\n",
       "            Longitude      CP Ville     distance     type  \\\n",
       "Code INSEE                                                  \n",
       "97301      -52.519927  97390 REGINA  5003.957195  Polygon   \n",
       "\n",
       "                                                  coordinates  nb_polygones  \\\n",
       "Code INSEE                                                                    \n",
       "97301       [[[-52.501078590007516, 3.49466089258716], [-5...             1   \n",
       "\n",
       "            nb_points  \n",
       "Code INSEE             \n",
       "97301             392  "
      ]
     },
     "execution_count": 18,
     "metadata": {},
     "output_type": "execute_result"
    }
   ],
   "source": [
    "#2è Ville la plus complexe en nombre de points\n",
    "max2 = max(geo.loc[geo[\"nb_points\"] < max(geo['nb_points'])][\"nb_points\"])\n",
    "geo.loc[geo[\"nb_points\"]== max2]"
   ]
  },
  {
   "cell_type": "code",
   "execution_count": 19,
   "metadata": {},
   "outputs": [],
   "source": [
    "#villes de type \"Polygon\", mais de nb de polygones égal à 2 \n",
    "df = geo.loc[(geo[\"type\"] == \"Polygon\") & (geo[\"nb_polygones\"] == 2)].copy()"
   ]
  },
  {
   "cell_type": "code",
   "execution_count": 20,
   "metadata": {},
   "outputs": [],
   "source": [
    "#Vérifier que le premier polygone contient bien le second (enclave).\n",
    "import shapely\n",
    "from shapely import geometry\n",
    "from shapely.geometry import Polygon"
   ]
  },
  {
   "cell_type": "code",
   "execution_count": 22,
   "metadata": {},
   "outputs": [],
   "source": [
    "#Extraire les deux polygones, et les transformer en type Polygon\n",
    "df['poly1']=df['coordinates'].apply(lambda x: Polygon(x[0]))\n",
    "df['poly2']=df['coordinates'].apply(lambda x: Polygon(x[1]))"
   ]
  },
  {
   "cell_type": "code",
   "execution_count": 24,
   "metadata": {},
   "outputs": [
    {
     "data": {
      "text/plain": [
       "Code INSEE\n",
       "02232    True\n",
       "05052    True\n",
       "09042    True\n",
       "22209    True\n",
       "2A272    True\n",
       "2B049    True\n",
       "48080    True\n",
       "67486    True\n",
       "68078    True\n",
       "71028    True\n",
       "dtype: bool"
      ]
     },
     "execution_count": 24,
     "metadata": {},
     "output_type": "execute_result"
    }
   ],
   "source": [
    "#voir si le 1er polynome contient le second\n",
    "def f(x):\n",
    "    return x[\"poly1\"].contains(x[\"poly2\"])\n",
    "df.apply(f, axis=1)"
   ]
  }
 ],
 "metadata": {
  "anaconda-cloud": {},
  "kernelspec": {
   "display_name": "Python 3",
   "language": "python",
   "name": "python3"
  },
  "language_info": {
   "codemirror_mode": {
    "name": "ipython",
    "version": 3
   },
   "file_extension": ".py",
   "mimetype": "text/x-python",
   "name": "python",
   "nbconvert_exporter": "python",
   "pygments_lexer": "ipython3",
   "version": "3.8.5"
  }
 },
 "nbformat": 4,
 "nbformat_minor": 1
}
